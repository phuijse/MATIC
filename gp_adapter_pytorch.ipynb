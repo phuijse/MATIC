{
 "cells": [
  {
   "cell_type": "code",
   "execution_count": null,
   "metadata": {},
   "outputs": [],
   "source": [
    "import numpy as np\n",
    "import matplotlib.pylab as plt\n",
    "%matplotlib notebook\n",
    "import time\n",
    "import torch\n",
    "import torch.optim as optim\n",
    "from tqdm import tqdm_notebook\n",
    "from matic_pytorch import GP_adapter"
   ]
  },
  {
   "cell_type": "code",
   "execution_count": null,
   "metadata": {},
   "outputs": [],
   "source": [
    "# Mock data to test\n",
    "N = 50\n",
    "s_noise = 0.0\n",
    "per = np.array([1.4284, 0.8465])\n",
    "t = np.linspace(0.0, 100.0, num=N)\n",
    "fig, (ax1, ax2) = plt.subplots(1, 2, figsize=(8, 2), sharey=True)\n",
    "lc_database = list()\n",
    "\n",
    "t_uneven = t + 0.1*(10/N)*np.random.randn(N)\n",
    "t_uneven = np.sort(t_uneven)\n",
    "v_clean = np.cos(2.0*np.pi*t_uneven/per[0]) + 0.5*np.cos(4.0*np.pi*t_uneven/per[0]) \n",
    "v = v_clean + s_noise*np.random.randn(N)\n",
    "e = s_noise*np.ones_like(v)\n",
    "ax1.errorbar(t_uneven, v, e, fmt='.')\n",
    "ax2.errorbar(np.mod(t_uneven, per[0])/per[0], v, e, fmt='.')   \n",
    "lc_database.append({'data': torch.from_numpy(np.stack((t_uneven, v, e)).astype('float32').T), \n",
    "                    'period': per[0], 'label': 0})\n",
    "\n",
    "t_uneven = t + 0.1*(10/N)*np.random.randn(N)\n",
    "t_uneven = np.sort(t_uneven)\n",
    "v_clean = np.sin(2.0*np.pi*t_uneven/per[1]) - 0.5*np.sin(4.0*np.pi*t_uneven/per[1]) \n",
    "v = v_clean + s_noise*np.random.randn(N)\n",
    "e = s_noise*np.ones_like(v)\n",
    "lc_database.append({'data': torch.from_numpy(np.stack((t_uneven, v, e)).astype('float32').T), \n",
    "                    'period': per[1], 'label': 1})\n",
    "ax1.errorbar(t_uneven, v, e, fmt='.')\n",
    "ax1.set_xlabel('Time'); ax1.grid()\n",
    "ax2.errorbar(np.mod(t_uneven, per[1])/per[1], v, e, fmt='.')   \n",
    "ax2.set_xlabel('Phase'); ax2.grid();"
   ]
  },
  {
   "cell_type": "code",
   "execution_count": null,
   "metadata": {
    "scrolled": true
   },
   "outputs": [],
   "source": [
    "# Parameters\n",
    "n_epoch = 100\n",
    "net = GP_adapter(n_pivots=50, n_mc_samples=64, n_neuron_conv=32, kernel_size=5, n_classes=2)\n",
    "optimizer = torch.optim.Adam(net.parameters(), lr=1e-2)\n",
    "criterion = torch.nn.NLLLoss()\n",
    "\n",
    "fig, ax = plt.subplots(1, 1, figsize=(5, 3))\n",
    "loss_history = list()\n",
    "ax.plot(0, 0); ax.grid(); ax.set_label('Epoch')\n",
    "line = ax.lines[0]\n",
    "for k in tqdm_notebook(range(n_epoch), desc='Epochs'): \n",
    "    running_loss = 0.0\n",
    "    for sample in lc_database: # data samples\n",
    "        targets = torch.tensor(sample['label']).repeat(net.n_mc_samples)\n",
    "        output = net(sample)\n",
    "        optimizer.zero_grad()\n",
    "        loss = criterion(output, targets)\n",
    "        running_loss += loss.detach().numpy()/net.n_mc_samples\n",
    "        loss.backward()\n",
    "        optimizer.step()\n",
    "    loss_history.append(running_loss/len(lc_database))\n",
    "    line.set_xdata(range(k+1))\n",
    "    line.set_ydata(loss_history)\n",
    "    ax.set_xlim([0, k+1])\n",
    "    ax.set_ylim([0, max(loss_history)])\n",
    "    fig.canvas.draw();"
   ]
  },
  {
   "cell_type": "code",
   "execution_count": null,
   "metadata": {},
   "outputs": [],
   "source": [
    " for i, sample in enumerate(lc_database):\n",
    "    pred_proba = torch.exp(net.forward(sample)).detach().numpy()\n",
    "    pred_label = np.argmax(np.mean(pred_proba, axis=0))\n",
    "    print(\"%d: Predicted class %d, Average pbb:%f, std_dev:%f\" %(i, pred_label, \n",
    "                                                                 np.mean(pred_proba, axis=0)[i], np.std(pred_proba, axis=0)[i]))"
   ]
  },
  {
   "cell_type": "code",
   "execution_count": null,
   "metadata": {},
   "outputs": [],
   "source": [
    "fig = plt.figure(figsize=(8, 8))\n",
    "\n",
    "for i, sample in enumerate(lc_database):\n",
    "    ax = fig.add_subplot(2, 2, 2*i+1)\n",
    "    if i == 0:\n",
    "        ax.set_title('Realizations from posterior')\n",
    "    output, (mu, R, x) = net.forward(sample, return_gp=True)\n",
    "    z = net.sample_from_posterior(mu, R).detach().numpy()\n",
    "    x = x[0, :].detach().numpy()\n",
    "    mu = mu[0, :].detach().numpy()\n",
    "    s = torch.sqrt(torch.sum(R**2, dim=0)).detach().numpy()\n",
    "    for k in range(10):\n",
    "        ax.plot(x, 2*k+ z[k, :], linewidth=2)\n",
    "        ax.plot(x, 2*k*np.ones(shape=x.shape), 'k--', alpha=0.5)\n",
    "    ax = fig.add_subplot(2, 2, 2*i+2)\n",
    "    if i == 0:\n",
    "        ax.set_title('Mean posterior plus one stddev')    \n",
    "    ax.plot(x, mu)\n",
    "    ax.fill_between(x, mu  - s, mu +s, alpha=0.5)\n",
    "    lc = sample['data'].detach().numpy()\n",
    "    ax.errorbar(np.mod(lc[:, 0], sample['period'])/sample['period'], lc[:, 1], lc[:, 2], fmt='.')\n",
    "plt.tight_layout();"
   ]
  },
  {
   "cell_type": "code",
   "execution_count": null,
   "metadata": {},
   "outputs": [],
   "source": []
  }
 ],
 "metadata": {
  "kernelspec": {
   "display_name": "Python 3",
   "language": "python",
   "name": "python3"
  },
  "language_info": {
   "codemirror_mode": {
    "name": "ipython",
    "version": 3
   },
   "file_extension": ".py",
   "mimetype": "text/x-python",
   "name": "python",
   "nbconvert_exporter": "python",
   "pygments_lexer": "ipython3",
   "version": "3.7.4"
  }
 },
 "nbformat": 4,
 "nbformat_minor": 2
}
